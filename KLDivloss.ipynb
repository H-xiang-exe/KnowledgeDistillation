{
 "cells": [
  {
   "cell_type": "code",
   "execution_count": 12,
   "metadata": {},
   "outputs": [],
   "source": [
    "import torch\n",
    "input = torch.tensor([0.12, 0.8, 0.08])\n",
    "target = torch.tensor([0.02, 0.96, 0.02])"
   ]
  },
  {
   "cell_type": "code",
   "execution_count": 13,
   "metadata": {},
   "outputs": [
    {
     "name": "stdout",
     "output_type": "stream",
     "text": [
      "tensor(-0.9677)\n"
     ]
    }
   ],
   "source": [
    "import math\n",
    "def loss_func(input, target):\n",
    "    sum = 0.0\n",
    "    for i in range(len(input)):\n",
    "        sum += target[i] * math.log(target[i]) - target[i]*input[i]\n",
    "    return sum\n",
    "print(loss_func(input, target))"
   ]
  },
  {
   "cell_type": "code",
   "execution_count": 14,
   "metadata": {},
   "outputs": [
    {
     "name": "stdout",
     "output_type": "stream",
     "text": [
      "tensor(-0.9677)\n"
     ]
    }
   ],
   "source": [
    "criterion = torch.nn.KLDivLoss(reduction='sum')\n",
    "print(criterion(input, target))"
   ]
  },
  {
   "cell_type": "code",
   "execution_count": null,
   "metadata": {},
   "outputs": [],
   "source": []
  }
 ],
 "metadata": {
  "kernelspec": {
   "display_name": "py38_torch110",
   "language": "python",
   "name": "py38_torch110"
  },
  "language_info": {
   "codemirror_mode": {
    "name": "ipython",
    "version": 3
   },
   "file_extension": ".py",
   "mimetype": "text/x-python",
   "name": "python",
   "nbconvert_exporter": "python",
   "pygments_lexer": "ipython3",
   "version": "3.8.0"
  }
 },
 "nbformat": 4,
 "nbformat_minor": 4
}
